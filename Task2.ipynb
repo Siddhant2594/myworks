{
 "cells": [
  {
   "cell_type": "code",
   "execution_count": 125,
   "metadata": {},
   "outputs": [],
   "source": [
    "import pandas as pd\n",
    "import numpy as np\n",
    "import seaborn as sns\n",
    "import matplotlib as plt\n",
    "%matplotlib inline"
   ]
  },
  {
   "cell_type": "code",
   "execution_count": 112,
   "metadata": {},
   "outputs": [],
   "source": [
    "data1 = pd.read_excel(\"Data.xlsx\",'Data')"
   ]
  },
  {
   "cell_type": "code",
   "execution_count": 36,
   "metadata": {},
   "outputs": [],
   "source": [
    "trans =  pd.read_excel('KPMG_data.xlsx', 'Trans')"
   ]
  },
  {
   "cell_type": "code",
   "execution_count": 37,
   "metadata": {},
   "outputs": [],
   "source": [
    "cust = pd.read_excel('KPMG_data.xlsx', 'Cust')"
   ]
  },
  {
   "cell_type": "code",
   "execution_count": 38,
   "metadata": {},
   "outputs": [],
   "source": [
    "new_cust = pd.read_excel('KPMG_data.xlsx', 'NewCustomerList')"
   ]
  },
  {
   "cell_type": "code",
   "execution_count": 81,
   "metadata": {},
   "outputs": [],
   "source": [
    "data2 = trans.merge(cust, how=\"left\",on = \"customer_id\")"
   ]
  },
  {
   "cell_type": "code",
   "execution_count": 113,
   "metadata": {},
   "outputs": [
    {
     "name": "stdout",
     "output_type": "stream",
     "text": [
      "<class 'pandas.core.frame.DataFrame'>\n",
      "Int64Index: 13632 entries, 0 to 19444\n",
      "Data columns (total 27 columns):\n",
      " #   Column                               Non-Null Count  Dtype         \n",
      "---  ------                               --------------  -----         \n",
      " 0   transaction_id                       13632 non-null  int64         \n",
      " 1   product_id                           13632 non-null  int64         \n",
      " 2   customer_id                          13632 non-null  int64         \n",
      " 3   transaction_date                     13632 non-null  datetime64[ns]\n",
      " 4   online_order                         13632 non-null  bool          \n",
      " 5   order_status                         13632 non-null  object        \n",
      " 6   brand                                13632 non-null  object        \n",
      " 7   product_line                         13632 non-null  object        \n",
      " 8   product_class                        13632 non-null  object        \n",
      " 9   product_size                         13632 non-null  object        \n",
      " 10  list_price                           13632 non-null  float64       \n",
      " 11  standard_cost                        13632 non-null  float64       \n",
      " 12  product_first_sold_date              13632 non-null  int64         \n",
      " 13  profit                               13632 non-null  float64       \n",
      " 14  first_name                           13632 non-null  object        \n",
      " 15  last_name                            13632 non-null  object        \n",
      " 16  gender                               13632 non-null  object        \n",
      " 17  past_3_years_bike_related_purchases  13632 non-null  float64       \n",
      " 18  DOB                                  13632 non-null  datetime64[ns]\n",
      " 19  job_title                            13632 non-null  object        \n",
      " 20  job_industry_category                13632 non-null  object        \n",
      " 21  wealth_segment                       13632 non-null  object        \n",
      " 22  deceased_indicator                   13632 non-null  object        \n",
      " 23  owns_car                             13632 non-null  object        \n",
      " 24  tenure                               13632 non-null  float64       \n",
      " 25  age                                  13632 non-null  int16         \n",
      " 26  age_band                             13632 non-null  object        \n",
      "dtypes: bool(1), datetime64[ns](2), float64(5), int16(1), int64(4), object(14)\n",
      "memory usage: 2.7+ MB\n"
     ]
    }
   ],
   "source": [
    "data2.info()"
   ]
  },
  {
   "cell_type": "code",
   "execution_count": 97,
   "metadata": {},
   "outputs": [],
   "source": [
    "data2.dropna(inplace = True)"
   ]
  },
  {
   "cell_type": "code",
   "execution_count": 99,
   "metadata": {},
   "outputs": [],
   "source": [
    "import datetime as DT\n",
    "now = DT.datetime.now()\n",
    "data2['age'] = (now - data2['DOB'])/365"
   ]
  },
  {
   "cell_type": "code",
   "execution_count": 100,
   "metadata": {},
   "outputs": [
    {
     "data": {
      "text/plain": [
       "0        66\n",
       "1        42\n",
       "2        43\n",
       "3        59\n",
       "5        62\n",
       "         ..\n",
       "19439    43\n",
       "19440    26\n",
       "19441    46\n",
       "19442    47\n",
       "19444    24\n",
       "Name: age, Length: 13632, dtype: int16"
      ]
     },
     "execution_count": 100,
     "metadata": {},
     "output_type": "execute_result"
    }
   ],
   "source": [
    "data2['age'] = data2['age'].dt.days.astype('int16')\n",
    "data2['age']"
   ]
  },
  {
   "cell_type": "code",
   "execution_count": 111,
   "metadata": {},
   "outputs": [
    {
     "name": "stdout",
     "output_type": "stream",
     "text": [
      "       transaction_id  product_id  customer_id transaction_date  online_order  \\\n",
      "0                   1           2         2950       2017-02-25         False   \n",
      "1                   2           3         3120       2017-05-21          True   \n",
      "2                   3          37          402       2017-10-16         False   \n",
      "3                   4          88         3135       2017-08-31         False   \n",
      "5                   6          25         2339       2017-03-08          True   \n",
      "...               ...         ...          ...              ...           ...   \n",
      "19439           19995           9          718       2017-05-13          True   \n",
      "19440           19996          51         1018       2017-06-24          True   \n",
      "19441           19997          41          127       2017-11-09          True   \n",
      "19442           19998          87         2284       2017-04-14          True   \n",
      "19444           20000          11         1144       2017-09-22          True   \n",
      "\n",
      "      order_status           brand product_line product_class product_size  \\\n",
      "0         Approved           Solex     Standard        medium       medium   \n",
      "1         Approved   Trek Bicycles     Standard        medium        large   \n",
      "2         Approved      OHM Cycles     Standard           low       medium   \n",
      "3         Approved  Norco Bicycles     Standard        medium       medium   \n",
      "5         Approved  Giant Bicycles         Road        medium       medium   \n",
      "...            ...             ...          ...           ...          ...   \n",
      "19439     Approved      OHM Cycles         Road        medium       medium   \n",
      "19440     Approved      OHM Cycles     Standard          high       medium   \n",
      "19441     Approved           Solex         Road        medium       medium   \n",
      "19442     Approved      OHM Cycles     Standard        medium       medium   \n",
      "19444     Approved   Trek Bicycles     Standard        medium        small   \n",
      "\n",
      "       ...  past_3_years_bike_related_purchases        DOB  \\\n",
      "0      ...                                 19.0 1955-01-11   \n",
      "1      ...                                 89.0 1979-02-04   \n",
      "2      ...                                  9.0 1977-06-03   \n",
      "3      ...                                 83.0 1962-01-14   \n",
      "5      ...                                  3.0 1958-12-28   \n",
      "...    ...                                  ...        ...   \n",
      "19439  ...                                 38.0 1978-02-18   \n",
      "19440  ...                                  1.0 1994-11-27   \n",
      "19441  ...                                 81.0 1974-12-03   \n",
      "19442  ...                                 83.0 1974-02-16   \n",
      "19444  ...                                 73.0 1996-12-12   \n",
      "\n",
      "                        job_title  job_industry_category     wealth_segment  \\\n",
      "0             Software Engineer I     Financial Services      Mass Customer   \n",
      "1             Clinical Specialist                 Health      Mass Customer   \n",
      "2      Desktop Support Technician                 Retail  Affluent Customer   \n",
      "3                 Staff Scientist     Financial Services      Mass Customer   \n",
      "5                 Web Designer II               Property  Affluent Customer   \n",
      "...                           ...                    ...                ...   \n",
      "19439                  Engineer I          Manufacturing      Mass Customer   \n",
      "19440          Help Desk Operator          Manufacturing      Mass Customer   \n",
      "19441        Compensation Analyst     Financial Services      Mass Customer   \n",
      "19442         Staff Accountant IV     Telecommunications     High Net Worth   \n",
      "19444    Environmental Specialist                 Health     High Net Worth   \n",
      "\n",
      "      deceased_indicator owns_car  tenure age age_band  \n",
      "0                      N      Yes    10.0  66       70  \n",
      "1                      N      Yes    10.0  42       50  \n",
      "2                      N       No    22.0  43       50  \n",
      "3                      N       No    16.0  59       60  \n",
      "5                      N      Yes    16.0  62       70  \n",
      "...                  ...      ...     ...  ..      ...  \n",
      "19439                  N      Yes     7.0  43       50  \n",
      "19440                  N      Yes     7.0  26       30  \n",
      "19441                  N       No    19.0  46       50  \n",
      "19442                  N       No    14.0  47       50  \n",
      "19444                  N      Yes     5.0  24       30  \n",
      "\n",
      "[13632 rows x 27 columns]\n"
     ]
    }
   ],
   "source": [
    "age_band = [] \n",
    "for value in data2[\"age\"]: \n",
    "    if value > 90: \n",
    "        age_band.append(\"100\") \n",
    "    elif value <= 90 and value >80: \n",
    "        age_band.append(\"90\")\n",
    "    elif value <= 80 and value >70: \n",
    "        age_band.append(\"80\")\n",
    "    elif value <= 70 and value >60: \n",
    "        age_band.append(\"70\")\n",
    "    elif value <= 60 and value >50: \n",
    "        age_band.append(\"60\")\n",
    "    elif value <= 50 and value >40: \n",
    "        age_band.append(\"50\")\n",
    "    elif value <= 40 and value >30: \n",
    "        age_band.append(\"40\")\n",
    "    elif value <= 30 and value >20: \n",
    "        age_band.append(\"30\")\n",
    "    elif value <= 20 and value >10: \n",
    "        age_band.append(\"20\")\n",
    "    else: \n",
    "        age_band.append(\"10\") \n",
    "       \n",
    "data2[\"age_band\"] = age_band    \n",
    "print(data2) "
   ]
  },
  {
   "cell_type": "code",
   "execution_count": 102,
   "metadata": {},
   "outputs": [
    {
     "data": {
      "text/html": [
       "<div>\n",
       "<style scoped>\n",
       "    .dataframe tbody tr th:only-of-type {\n",
       "        vertical-align: middle;\n",
       "    }\n",
       "\n",
       "    .dataframe tbody tr th {\n",
       "        vertical-align: top;\n",
       "    }\n",
       "\n",
       "    .dataframe thead th {\n",
       "        text-align: right;\n",
       "    }\n",
       "</style>\n",
       "<table border=\"1\" class=\"dataframe\">\n",
       "  <thead>\n",
       "    <tr style=\"text-align: right;\">\n",
       "      <th></th>\n",
       "      <th>transaction_id</th>\n",
       "      <th>product_id</th>\n",
       "      <th>customer_id</th>\n",
       "      <th>transaction_date</th>\n",
       "      <th>online_order</th>\n",
       "      <th>order_status</th>\n",
       "      <th>brand</th>\n",
       "      <th>product_line</th>\n",
       "      <th>product_class</th>\n",
       "      <th>product_size</th>\n",
       "      <th>...</th>\n",
       "      <th>past_3_years_bike_related_purchases</th>\n",
       "      <th>DOB</th>\n",
       "      <th>job_title</th>\n",
       "      <th>job_industry_category</th>\n",
       "      <th>wealth_segment</th>\n",
       "      <th>deceased_indicator</th>\n",
       "      <th>owns_car</th>\n",
       "      <th>tenure</th>\n",
       "      <th>age</th>\n",
       "      <th>age_band</th>\n",
       "    </tr>\n",
       "  </thead>\n",
       "  <tbody>\n",
       "    <tr>\n",
       "      <th>0</th>\n",
       "      <td>1</td>\n",
       "      <td>2</td>\n",
       "      <td>2950</td>\n",
       "      <td>2017-02-25</td>\n",
       "      <td>False</td>\n",
       "      <td>Approved</td>\n",
       "      <td>Solex</td>\n",
       "      <td>Standard</td>\n",
       "      <td>medium</td>\n",
       "      <td>medium</td>\n",
       "      <td>...</td>\n",
       "      <td>19.0</td>\n",
       "      <td>1955-01-11</td>\n",
       "      <td>Software Engineer I</td>\n",
       "      <td>Financial Services</td>\n",
       "      <td>Mass Customer</td>\n",
       "      <td>N</td>\n",
       "      <td>Yes</td>\n",
       "      <td>10.0</td>\n",
       "      <td>66</td>\n",
       "      <td>70</td>\n",
       "    </tr>\n",
       "    <tr>\n",
       "      <th>1</th>\n",
       "      <td>2</td>\n",
       "      <td>3</td>\n",
       "      <td>3120</td>\n",
       "      <td>2017-05-21</td>\n",
       "      <td>True</td>\n",
       "      <td>Approved</td>\n",
       "      <td>Trek Bicycles</td>\n",
       "      <td>Standard</td>\n",
       "      <td>medium</td>\n",
       "      <td>large</td>\n",
       "      <td>...</td>\n",
       "      <td>89.0</td>\n",
       "      <td>1979-02-04</td>\n",
       "      <td>Clinical Specialist</td>\n",
       "      <td>Health</td>\n",
       "      <td>Mass Customer</td>\n",
       "      <td>N</td>\n",
       "      <td>Yes</td>\n",
       "      <td>10.0</td>\n",
       "      <td>42</td>\n",
       "      <td>40</td>\n",
       "    </tr>\n",
       "    <tr>\n",
       "      <th>2</th>\n",
       "      <td>3</td>\n",
       "      <td>37</td>\n",
       "      <td>402</td>\n",
       "      <td>2017-10-16</td>\n",
       "      <td>False</td>\n",
       "      <td>Approved</td>\n",
       "      <td>OHM Cycles</td>\n",
       "      <td>Standard</td>\n",
       "      <td>low</td>\n",
       "      <td>medium</td>\n",
       "      <td>...</td>\n",
       "      <td>9.0</td>\n",
       "      <td>1977-06-03</td>\n",
       "      <td>Desktop Support Technician</td>\n",
       "      <td>Retail</td>\n",
       "      <td>Affluent Customer</td>\n",
       "      <td>N</td>\n",
       "      <td>No</td>\n",
       "      <td>22.0</td>\n",
       "      <td>43</td>\n",
       "      <td>40</td>\n",
       "    </tr>\n",
       "    <tr>\n",
       "      <th>3</th>\n",
       "      <td>4</td>\n",
       "      <td>88</td>\n",
       "      <td>3135</td>\n",
       "      <td>2017-08-31</td>\n",
       "      <td>False</td>\n",
       "      <td>Approved</td>\n",
       "      <td>Norco Bicycles</td>\n",
       "      <td>Standard</td>\n",
       "      <td>medium</td>\n",
       "      <td>medium</td>\n",
       "      <td>...</td>\n",
       "      <td>83.0</td>\n",
       "      <td>1962-01-14</td>\n",
       "      <td>Staff Scientist</td>\n",
       "      <td>Financial Services</td>\n",
       "      <td>Mass Customer</td>\n",
       "      <td>N</td>\n",
       "      <td>No</td>\n",
       "      <td>16.0</td>\n",
       "      <td>59</td>\n",
       "      <td>60</td>\n",
       "    </tr>\n",
       "    <tr>\n",
       "      <th>5</th>\n",
       "      <td>6</td>\n",
       "      <td>25</td>\n",
       "      <td>2339</td>\n",
       "      <td>2017-03-08</td>\n",
       "      <td>True</td>\n",
       "      <td>Approved</td>\n",
       "      <td>Giant Bicycles</td>\n",
       "      <td>Road</td>\n",
       "      <td>medium</td>\n",
       "      <td>medium</td>\n",
       "      <td>...</td>\n",
       "      <td>3.0</td>\n",
       "      <td>1958-12-28</td>\n",
       "      <td>Web Designer II</td>\n",
       "      <td>Property</td>\n",
       "      <td>Affluent Customer</td>\n",
       "      <td>N</td>\n",
       "      <td>Yes</td>\n",
       "      <td>16.0</td>\n",
       "      <td>62</td>\n",
       "      <td>70</td>\n",
       "    </tr>\n",
       "  </tbody>\n",
       "</table>\n",
       "<p>5 rows × 27 columns</p>\n",
       "</div>"
      ],
      "text/plain": [
       "   transaction_id  product_id  customer_id transaction_date  online_order  \\\n",
       "0               1           2         2950       2017-02-25         False   \n",
       "1               2           3         3120       2017-05-21          True   \n",
       "2               3          37          402       2017-10-16         False   \n",
       "3               4          88         3135       2017-08-31         False   \n",
       "5               6          25         2339       2017-03-08          True   \n",
       "\n",
       "  order_status           brand product_line product_class product_size  ...  \\\n",
       "0     Approved           Solex     Standard        medium       medium  ...   \n",
       "1     Approved   Trek Bicycles     Standard        medium        large  ...   \n",
       "2     Approved      OHM Cycles     Standard           low       medium  ...   \n",
       "3     Approved  Norco Bicycles     Standard        medium       medium  ...   \n",
       "5     Approved  Giant Bicycles         Road        medium       medium  ...   \n",
       "\n",
       "   past_3_years_bike_related_purchases        DOB                   job_title  \\\n",
       "0                                 19.0 1955-01-11         Software Engineer I   \n",
       "1                                 89.0 1979-02-04         Clinical Specialist   \n",
       "2                                  9.0 1977-06-03  Desktop Support Technician   \n",
       "3                                 83.0 1962-01-14             Staff Scientist   \n",
       "5                                  3.0 1958-12-28             Web Designer II   \n",
       "\n",
       "   job_industry_category     wealth_segment deceased_indicator owns_car  \\\n",
       "0     Financial Services      Mass Customer                  N      Yes   \n",
       "1                 Health      Mass Customer                  N      Yes   \n",
       "2                 Retail  Affluent Customer                  N       No   \n",
       "3     Financial Services      Mass Customer                  N       No   \n",
       "5               Property  Affluent Customer                  N      Yes   \n",
       "\n",
       "   tenure age age_band  \n",
       "0    10.0  66       70  \n",
       "1    10.0  42       40  \n",
       "2    22.0  43       40  \n",
       "3    16.0  59       60  \n",
       "5    16.0  62       70  \n",
       "\n",
       "[5 rows x 27 columns]"
      ]
     },
     "execution_count": 102,
     "metadata": {},
     "output_type": "execute_result"
    }
   ],
   "source": [
    "data2.head(5)"
   ]
  },
  {
   "cell_type": "code",
   "execution_count": 103,
   "metadata": {},
   "outputs": [
    {
     "data": {
      "text/plain": [
       "13632"
      ]
     },
     "execution_count": 103,
     "metadata": {},
     "output_type": "execute_result"
    }
   ],
   "source": [
    "len(data2)"
   ]
  },
  {
   "cell_type": "code",
   "execution_count": 117,
   "metadata": {},
   "outputs": [
    {
     "data": {
      "text/plain": [
       "<AxesSubplot:xlabel='online_order', ylabel='count'>"
      ]
     },
     "execution_count": 117,
     "metadata": {},
     "output_type": "execute_result"
    },
    {
     "data": {
      "image/png": "[encoded data removed]",
      "text/plain": [
       "<Figure size 432x288 with 1 Axes>"
      ]
     },
     "metadata": {
      "needs_background": "light"
     },
     "output_type": "display_data"
    }
   ],
   "source": [
    "sns.countplot(x='online_order',data = data2)"
   ]
  },
  {
   "cell_type": "code",
   "execution_count": 118,
   "metadata": {},
   "outputs": [
    {
     "data": {
      "text/plain": [
       "<AxesSubplot:xlabel='gender', ylabel='count'>"
      ]
     },
     "execution_count": 118,
     "metadata": {},
     "output_type": "execute_result"
    },
    {
     "data": {
      "image/png": "[encoded data removed]",
      "text/plain": [
       "<Figure size 432x288 with 1 Axes>"
      ]
     },
     "metadata": {
      "needs_background": "light"
     },
     "output_type": "display_data"
    }
   ],
   "source": [
    "sns.countplot(x='gender',data = data2)"
   ]
  },
  {
   "cell_type": "code",
   "execution_count": 128,
   "metadata": {},
   "outputs": [
    {
     "data": {
      "text/plain": [
       "<AxesSubplot:xlabel='age_band', ylabel='count'>"
      ]
     },
     "execution_count": 128,
     "metadata": {},
     "output_type": "execute_result"
    },
    {
     "data": {
      "image/png": "[encoded data removed]",
      "text/plain": [
       "<Figure size 432x288 with 1 Axes>"
      ]
     },
     "metadata": {
      "needs_background": "light"
     },
     "output_type": "display_data"
    }
   ],
   "source": [
    "sns.countplot(x='age_band',data = data2)"
   ]
  },
  {
   "cell_type": "code",
   "execution_count": 121,
   "metadata": {},
   "outputs": [
    {
     "data": {
      "text/plain": [
       "<AxesSubplot:xlabel='age_band', ylabel='profit'>"
      ]
     },
     "execution_count": 121,
     "metadata": {},
     "output_type": "execute_result"
    },
    {
     "data": {
      "image/png": "[encoded data removed]",
      "text/plain": [
       "<Figure size 432x288 with 1 Axes>"
      ]
     },
     "metadata": {
      "needs_background": "light"
     },
     "output_type": "display_data"
    }
   ],
   "source": [
    "sns.barplot(x='age_band',y='profit', data=data2)"
   ]
  },
  {
   "cell_type": "code",
   "execution_count": 122,
   "metadata": {},
   "outputs": [
    {
     "data": {
      "text/plain": [
       "<AxesSubplot:xlabel='age_band', ylabel='past_3_years_bike_related_purchases'>"
      ]
     },
     "execution_count": 122,
     "metadata": {},
     "output_type": "execute_result"
    },
    {
     "data": {
      "image/png": "[encoded data removed]",
      "text/plain": [
       "<Figure size 432x288 with 1 Axes>"
      ]
     },
     "metadata": {
      "needs_background": "light"
     },
     "output_type": "display_data"
    }
   ],
   "source": [
    "sns.barplot(x='age_band',y='past_3_years_bike_related_purchases', data=data2)"
   ]
  },
  {
   "cell_type": "code",
   "execution_count": 127,
   "metadata": {},
   "outputs": [
    {
     "data": {
      "text/plain": [
       "<module 'matplotlib.tight_layout' from 'C:\\\\Users\\\\Siddhant\\\\anaconda3.8\\\\lib\\\\site-packages\\\\matplotlib\\\\tight_layout.py'>"
      ]
     },
     "execution_count": 127,
     "metadata": {},
     "output_type": "execute_result"
    },
    {
     "data": {
      "image/png": "[encoded data removed]",
      "text/plain": [
       "<Figure size 432x288 with 1 Axes>"
      ]
     },
     "metadata": {
      "needs_background": "light"
     },
     "output_type": "display_data"
    }
   ],
   "source": [
    "sns.barplot(x='brand',y='profit', data=data2)\n",
    "plt.tight_layout"
   ]
  },
  {
   "cell_type": "code",
   "execution_count": 106,
   "metadata": {},
   "outputs": [
    {
     "name": "stdout",
     "output_type": "stream",
     "text": [
      "<class 'pandas.core.frame.DataFrame'>\n",
      "Int64Index: 983 entries, 0 to 999\n",
      "Data columns (total 23 columns):\n",
      " #   Column                               Non-Null Count  Dtype         \n",
      "---  ------                               --------------  -----         \n",
      " 0   first_name                           983 non-null    object        \n",
      " 1   last_name                            954 non-null    object        \n",
      " 2   gender                               983 non-null    object        \n",
      " 3   past_3_years_bike_related_purchases  983 non-null    int64         \n",
      " 4   DOB                                  983 non-null    datetime64[ns]\n",
      " 5   job_title                            878 non-null    object        \n",
      " 6   job_industry_category                818 non-null    object        \n",
      " 7   wealth_segment                       983 non-null    object        \n",
      " 8   deceased_indicator                   983 non-null    object        \n",
      " 9   owns_car                             983 non-null    object        \n",
      " 10  tenure                               983 non-null    int64         \n",
      " 11  address                              983 non-null    object        \n",
      " 12  postcode                             983 non-null    int64         \n",
      " 13  state                                983 non-null    object        \n",
      " 14  country                              983 non-null    object        \n",
      " 15  property_valuation                   983 non-null    int64         \n",
      " 16  Unnamed: 16                          983 non-null    float64       \n",
      " 17  Unnamed: 17                          983 non-null    float64       \n",
      " 18  Unnamed: 18                          983 non-null    float64       \n",
      " 19  Unnamed: 19                          983 non-null    float64       \n",
      " 20  Unnamed: 20                          983 non-null    int64         \n",
      " 21  Rank                                 983 non-null    int64         \n",
      " 22  Value                                983 non-null    float64       \n",
      "dtypes: datetime64[ns](1), float64(5), int64(6), object(11)\n",
      "memory usage: 184.3+ KB\n"
     ]
    }
   ],
   "source": [
    "new_cust.info()"
   ]
  },
  {
   "cell_type": "code",
   "execution_count": 105,
   "metadata": {},
   "outputs": [],
   "source": [
    "new_cust.dropna(subset=['DOB'], inplace = True)"
   ]
  },
  {
   "cell_type": "code",
   "execution_count": 107,
   "metadata": {},
   "outputs": [],
   "source": [
    "import datetime as DT\n",
    "now = DT.datetime.now()\n",
    "new_cust['age'] = (now - new_cust['DOB'])/365"
   ]
  },
  {
   "cell_type": "code",
   "execution_count": 108,
   "metadata": {},
   "outputs": [
    {
     "data": {
      "text/plain": [
       "0      63\n",
       "1      50\n",
       "2      46\n",
       "3      42\n",
       "4      55\n",
       "       ..\n",
       "995    61\n",
       "996    19\n",
       "997    66\n",
       "998    68\n",
       "999    65\n",
       "Name: age, Length: 983, dtype: int16"
      ]
     },
     "execution_count": 108,
     "metadata": {},
     "output_type": "execute_result"
    }
   ],
   "source": [
    "new_cust['age'] = new_cust['age'].dt.days.astype('int16')\n",
    "new_cust['age']"
   ]
  },
  {
   "cell_type": "code",
   "execution_count": 110,
   "metadata": {},
   "outputs": [
    {
     "name": "stdout",
     "output_type": "stream",
     "text": [
      "    first_name  last_name  gender  past_3_years_bike_related_purchases  \\\n",
      "0      Chickie    Brister    Male                                   86   \n",
      "1        Morly     Genery    Male                                   69   \n",
      "2      Ardelis  Forrester  Female                                   10   \n",
      "3       Lucine      Stutt  Female                                   64   \n",
      "4      Melinda     Hadlee  Female                                   34   \n",
      "..         ...        ...     ...                                  ...   \n",
      "995  Ferdinand  Romanetti    Male                                   60   \n",
      "996       Burk    Wortley    Male                                   22   \n",
      "997   Melloney      Temby  Female                                   17   \n",
      "998     Dickie    Cubbini    Male                                   30   \n",
      "999      Sylas    Duffill    Male                                   56   \n",
      "\n",
      "           DOB                     job_title job_industry_category  \\\n",
      "0   1957-07-12               General Manager         Manufacturing   \n",
      "1   1970-03-22           Structural Engineer              Property   \n",
      "2   1974-08-28        Senior Cost Accountant    Financial Services   \n",
      "3   1979-01-28    Account Representative III         Manufacturing   \n",
      "4   1965-09-21             Financial Analyst    Financial Services   \n",
      "..         ...                           ...                   ...   \n",
      "995 1959-10-07                     Paralegal    Financial Services   \n",
      "996 2001-10-17        Senior Sales Associate                Health   \n",
      "997 1954-10-05  Budget/Accounting Analyst IV    Financial Services   \n",
      "998 1952-12-17             Financial Advisor    Financial Services   \n",
      "999 1955-10-02           Staff Accountant IV              Property   \n",
      "\n",
      "        wealth_segment deceased_indicator owns_car  ...  property_valuation  \\\n",
      "0        Mass Customer                  N      Yes  ...                   6   \n",
      "1        Mass Customer                  N       No  ...                  11   \n",
      "2    Affluent Customer                  N       No  ...                   5   \n",
      "3    Affluent Customer                  N      Yes  ...                   1   \n",
      "4    Affluent Customer                  N       No  ...                   9   \n",
      "..                 ...                ...      ...  ...                 ...   \n",
      "995  Affluent Customer                  N       No  ...                   7   \n",
      "996      Mass Customer                  N       No  ...                  10   \n",
      "997  Affluent Customer                  N      Yes  ...                   2   \n",
      "998      Mass Customer                  N      Yes  ...                   2   \n",
      "999      Mass Customer                  N      Yes  ...                   9   \n",
      "\n",
      "    Unnamed: 16  Unnamed: 17 Unnamed: 18 Unnamed: 19  Unnamed: 20  Rank  \\\n",
      "0          0.66       0.8250    1.031250    0.876563            1     1   \n",
      "1          0.81       0.8100    1.012500    0.860625            1     1   \n",
      "2          0.89       0.8900    0.890000    0.890000            1     1   \n",
      "3          0.52       0.6500    0.650000    0.650000            4     4   \n",
      "4          0.55       0.5500    0.687500    0.687500            4     4   \n",
      "..          ...          ...         ...         ...          ...   ...   \n",
      "995        1.03       1.0300    1.030000    1.030000          996   996   \n",
      "996        0.54       0.5400    0.675000    0.573750          997   997   \n",
      "997        1.04       1.3000    1.300000    1.300000          997   997   \n",
      "998        0.61       0.7625    0.762500    0.648125          997   997   \n",
      "999        0.93       1.1625    1.453125    1.235156         1000  1000   \n",
      "\n",
      "        Value  age  age_band  \n",
      "0    1.718750   63        70  \n",
      "1    1.718750   50        50  \n",
      "2    1.718750   46        50  \n",
      "3    1.703125   42        50  \n",
      "4    1.703125   55        60  \n",
      "..        ...  ...       ...  \n",
      "995  0.374000   61        70  \n",
      "996  0.357000   19        20  \n",
      "997  0.357000   66        70  \n",
      "998  0.357000   68        70  \n",
      "999  0.340000   65        70  \n",
      "\n",
      "[983 rows x 25 columns]\n"
     ]
    }
   ],
   "source": [
    "age_band = [] \n",
    "for value in new_cust[\"age\"]: \n",
    "    if value > 90: \n",
    "        age_band.append(\"100\") \n",
    "    elif value <= 90 and value >80: \n",
    "        age_band.append(\"90\")\n",
    "    elif value <= 80 and value >70: \n",
    "        age_band.append(\"80\")\n",
    "    elif value <= 70 and value >60: \n",
    "        age_band.append(\"70\")\n",
    "    elif value <= 60 and value >50: \n",
    "        age_band.append(\"60\")\n",
    "    elif value <= 50 and value >40: \n",
    "        age_band.append(\"50\")\n",
    "    elif value <= 40 and value >30: \n",
    "        age_band.append(\"40\")\n",
    "    elif value <= 30 and value >20: \n",
    "        age_band.append(\"30\")\n",
    "    elif value <= 20 and value >10: \n",
    "        age_band.append(\"20\")\n",
    "    else: \n",
    "        age_band.append(\"10\") \n",
    "       \n",
    "new_cust[\"age_band\"] = age_band    \n",
    "print(new_cust) "
   ]
  },
  {
   "cell_type": "code",
   "execution_count": 114,
   "metadata": {},
   "outputs": [
    {
     "data": {
      "text/plain": [
       "<AxesSubplot:xlabel='Customer_Title', ylabel='count'>"
      ]
     },
     "execution_count": 114,
     "metadata": {},
     "output_type": "execute_result"
    },
    {
     "data": {
      "image/png": "[encoded data removed]",
      "text/plain": [
       "<Figure size 432x288 with 1 Axes>"
      ]
     },
     "metadata": {
      "needs_background": "light"
     },
     "output_type": "display_data"
    }
   ],
   "source": [
    "sns.countplot(x='Customer_Title',data= data1)"
   ]
  }
 ],
 "metadata": {
  "kernelspec": {
   "display_name": "Python 3",
   "language": "python",
   "name": "python3"
  },
  "language_info": {
   "codemirror_mode": {
    "name": "ipython",
    "version": 3
   },
   "file_extension": ".py",
   "mimetype": "text/x-python",
   "name": "python",
   "nbconvert_exporter": "python",
   "pygments_lexer": "ipython3",
   "version": "3.8.5"
  }
 },
 "nbformat": 4,
 "nbformat_minor": 4
}
